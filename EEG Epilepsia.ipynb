{
 "cells": [
  {
   "cell_type": "code",
   "execution_count": 1,
   "metadata": {},
   "outputs": [],
   "source": [
    "import pandas as pd  \n",
    "import pyedflib #library for efd files for eeg\n",
    "from sklearn.model_selection import train_test_split \n",
    "\n",
    "\n",
    "from sklearn.ensemble import RandomForestRegressor, RandomForestClassifier\n",
    "from IPython.display import display\n",
    "from sklearn import metrics\n",
    "from pandas_summary import DataFrameSummary\n",
    "\n",
    "import os\n",
    "from os import scandir, getcwd\n",
    "from os.path import abspath\n",
    "#libreria para leer los ficheros\n",
    "import pyedflib\n",
    "import seaborn as sns\n",
    "from tqdm import tqdm_notebook\n",
    "\n",
    "%matplotlib inline\n",
    "from matplotlib import pyplot as plt\n",
    "plt.style.use(['seaborn-darkgrid'])\n",
    "plt.rcParams['figure.figsize'] = (12, 9)\n",
    "plt.rcParams['font.family'] = 'DejaVu Sans'\n",
    "\n",
    "from sklearn import metrics\n",
    "from sklearn.cluster import KMeans, AgglomerativeClustering, SpectralClustering\n",
    "from sklearn.decomposition import PCA\n",
    "from sklearn.model_selection import GridSearchCV\n",
    "from sklearn.preprocessing import StandardScaler\n",
    "from sklearn.svm import LinearSVC\n",
    "from sklearn.metrics import confusion_matrix\n",
    "\n",
    "RANDOM_STATE = 17"
   ]
  },
  {
   "cell_type": "code",
   "execution_count": 2,
   "metadata": {},
   "outputs": [],
   "source": [
    "#Importar datos, la fuente es https://www.isip.piconepress.com/projects/tuh_eeg/downloads/tuh_eeg_epilepsy/"
   ]
  },
  {
   "cell_type": "code",
   "execution_count": 3,
   "metadata": {},
   "outputs": [],
   "source": [
    "def lsAb(ruta = getcwd()):\n",
    "\treturn [abspath(arch.path) for arch in scandir(ruta) if arch.is_file()]\n",
    "\n",
    "def ls(ruta = getcwd()):\n",
    "\treturn [arch.name for arch in scandir(ruta) if arch.is_file()]"
   ]
  },
  {
   "cell_type": "code",
   "execution_count": 136,
   "metadata": {},
   "outputs": [],
   "source": [
    "\n",
    "noEpi=lsAb(\"/noepi\") #carpeta con archivos edf de no epilepticos para entrenar el modelo\n",
    "MasterTable =[]\n",
    "Etiqueta = []\n",
    "contador_train=0\n",
    "for file in noEpi:\n",
    "\tif (file!=\"/noepi/.DS_Store\"):\n",
    "#\t\tprint(file)\n",
    "\t\tcontador_train+=1\n",
    "\t\tmiEDFReader = pyedflib.EdfReader(file)\n",
    "\t\tEtiqueta.append(\"noepi\")\n",
    "\t\tMasterTable.append(miEDFReader.readSignal(0,500,2500))\n",
    "\t\tmiEDFReader.close\n",
    "\n",
    "Epi=lsAb(\"/epi\") #carpeta con archivos edf de epilepticos para entrenar el modelo\n",
    "#ListaEdEpifReader =[]\n",
    "for file in Epi:\n",
    "\tif (file!=\"/epi/.DS_Store\"):\n",
    "#\t\tprint(file)\n",
    "\t\tcontador_train+=1\n",
    "\t\tmiEDFReader = pyedflib.EdfReader(file)\n",
    "\t\tEtiqueta.append(\"epi\")\n",
    "\t\tMasterTable.append(miEDFReader.readSignal(0,500,2500))\n",
    "\t\tmiEDFReader.close\n",
    "        \n",
    "#ahora los datos de test\n",
    "noEpi=lsAb(\"/test_noepis\") #carpeta con archivos edf de no epilepticos para testar el modelo\n",
    "contador_test=0\n",
    "for file in noEpi:\n",
    "\tif (file!=\"/test_noepis/.DS_Store\"):\n",
    "#\t\tprint(file)\n",
    "\t\tcontador_test+=1\n",
    "\t\tmiEDFReader = pyedflib.EdfReader(file)\n",
    "\t\tEtiqueta.append(\"noepi\")\n",
    "\t\tMasterTable.append(miEDFReader.readSignal(0,500,2500))\n",
    "\t\tmiEDFReader.close\n",
    "\n",
    "\n",
    "#ahora los epi\n",
    "#print (\"ficheros que va a tratar de epilepticos\")\n",
    "Epi=lsAb(\"/test_epis\") #carpeta con archivos edf de epilepticos para testar el modelo\n",
    "#ListaEdEpifReader =[]\n",
    "for file in Epi:\n",
    "\tif (file!=\"/test_epis/.DS_Store\"):\n",
    "#\t\tprint(file)\n",
    "\t\tcontador_test+=1\n",
    "\t\tmiEDFReader = pyedflib.EdfReader(file)\n",
    "\t\tEtiqueta.append(\"epi\")\n",
    "\t\tMasterTable.append(miEDFReader.readSignal(0,500,2500))\n",
    "\t\tmiEDFReader.close   \n",
    "#ahora viene el trabajo de IA"
   ]
  },
  {
   "cell_type": "code",
   "execution_count": 137,
   "metadata": {},
   "outputs": [
    {
     "name": "stdout",
     "output_type": "stream",
     "text": [
      "176 131\n"
     ]
    }
   ],
   "source": [
    "print(contador_train, contador_test)"
   ]
  },
  {
   "cell_type": "code",
   "execution_count": 138,
   "metadata": {},
   "outputs": [],
   "source": [
    "MasterTablePanda = pd.DataFrame(MasterTable)\n",
    "df = MasterTablePanda"
   ]
  },
  {
   "cell_type": "code",
   "execution_count": 139,
   "metadata": {},
   "outputs": [],
   "source": [
    "normalized_df=(df-df.min())/(df.max()-df.min())\n",
    "df=normalized_df\n"
   ]
  },
  {
   "cell_type": "code",
   "execution_count": 39,
   "metadata": {},
   "outputs": [],
   "source": [
    "#Tratar datos"
   ]
  },
  {
   "cell_type": "code",
   "execution_count": 40,
   "metadata": {},
   "outputs": [],
   "source": [
    "#PCA para disminuir número de columnas\n",
    "#Si hacemos esto requiere separar previamente la columa final de EPI/NO EPI,\n",
    "#para asegurarnos de que no la cambie\n",
    "\n"
   ]
  },
  {
   "cell_type": "code",
   "execution_count": 140,
   "metadata": {},
   "outputs": [
    {
     "data": {
      "text/plain": [
       "(307, 268)"
      ]
     },
     "execution_count": 140,
     "metadata": {},
     "output_type": "execute_result"
    }
   ],
   "source": [
    "X=df\n",
    "y=Etiqueta\n",
    "\n",
    "pca= PCA(n_components=0.99999,random_state=RANDOM_STATE).fit(X)\n",
    "X_pca=pca.transform(X)\n",
    "X_pca.shape"
   ]
  },
  {
   "cell_type": "code",
   "execution_count": 199,
   "metadata": {},
   "outputs": [
    {
     "name": "stdout",
     "output_type": "stream",
     "text": [
      "          0         1         2         3         4         5         6    \\\n",
      "0   -0.656332 -0.087269  0.044535 -0.069131 -0.051735 -0.049591 -0.029009   \n",
      "1   -0.624887  0.494315 -0.287538 -0.015886 -0.048259 -0.546252  0.476791   \n",
      "2   -0.288607 -0.269890  0.285465 -0.056370 -0.087980 -0.047560 -0.164956   \n",
      "3   -0.266502 -0.105824 -0.025454 -0.058957 -0.086618 -0.010630 -0.051306   \n",
      "4    0.044643 -0.098184 -0.052907 -0.057531 -0.054141  0.009260 -0.041913   \n",
      "..        ...       ...       ...       ...       ...       ...       ...   \n",
      "302 -0.095197 -0.086243 -0.070573 -0.036673 -0.039974  0.020369 -0.027827   \n",
      "303 -0.218737 -0.070856 -0.085148 -0.209112 -0.088360  0.002729  0.034585   \n",
      "304  0.873790  0.041371 -0.131546 -0.057427 -0.017168  0.042299  0.011670   \n",
      "305 -0.036377 -0.132175 -0.095836 -0.050262 -0.064487  0.029353 -0.002239   \n",
      "306  0.497493 -0.150010  0.231288 -0.043499 -0.020234 -0.115177 -0.020070   \n",
      "\n",
      "          7         8         9    ...           258       259       260  \\\n",
      "0   -0.051977  0.015914  0.017705  ...  5.864499e-05  0.000043 -0.000123   \n",
      "1    0.246935 -0.308796 -0.099234  ... -2.604653e-04 -0.000031 -0.000383   \n",
      "2   -0.068779 -0.023172 -0.004022  ... -3.110342e-04  0.000323  0.000123   \n",
      "3   -0.012273 -0.003578  0.012246  ...  4.743317e-07  0.000827  0.000763   \n",
      "4    0.027494 -0.031170  0.010392  ... -2.319005e-03  0.000238  0.000687   \n",
      "..        ...       ...       ...  ...           ...       ...       ...   \n",
      "302  0.023464 -0.003277 -0.027503  ...  3.708681e-03 -0.003704  0.006490   \n",
      "303 -0.032596 -0.130711  0.107461  ...  2.284275e-03  0.006821  0.003488   \n",
      "304  0.040418 -0.121453 -0.016987  ...  2.810055e-04  0.000072 -0.000507   \n",
      "305 -0.033396  0.014327  0.000008  ... -6.444615e-04  0.000181 -0.000339   \n",
      "306 -0.101277  0.125735  0.041016  ...  2.302676e-05  0.000091  0.001084   \n",
      "\n",
      "          261       262       263       264       265       266       267  \n",
      "0   -0.000075 -0.000054 -0.000075  0.000015  0.000040  0.000079 -0.000083  \n",
      "1    0.000081  0.000127 -0.000264 -0.000045 -0.000026 -0.000273  0.000040  \n",
      "2    0.000472  0.000048  0.000148 -0.000374 -0.000269 -0.000211  0.000135  \n",
      "3   -0.001930  0.002715 -0.001842  0.001391  0.000050  0.000591 -0.000073  \n",
      "4   -0.001666 -0.001664  0.001584  0.000162  0.000195 -0.002095 -0.000480  \n",
      "..        ...       ...       ...       ...       ...       ...       ...  \n",
      "302  0.001190 -0.001000  0.001970  0.000525  0.001447  0.000977  0.000921  \n",
      "303  0.001138  0.004926  0.004025 -0.002187  0.001001 -0.001588 -0.000829  \n",
      "304 -0.000195 -0.000142  0.000110 -0.000437 -0.000034  0.000164  0.000233  \n",
      "305  0.000024 -0.000318 -0.000248 -0.000261 -0.000299  0.000052 -0.000316  \n",
      "306  0.000125 -0.000116 -0.000458 -0.000169  0.000174 -0.000336 -0.000411  \n",
      "\n",
      "[307 rows x 268 columns]\n"
     ]
    }
   ],
   "source": [
    "print(pd.DataFrame(X_pca))"
   ]
  },
  {
   "cell_type": "code",
   "execution_count": 141,
   "metadata": {},
   "outputs": [
    {
     "data": {
      "text/plain": [
       "((176, 268), (131, 268))"
      ]
     },
     "execution_count": 141,
     "metadata": {},
     "output_type": "execute_result"
    }
   ],
   "source": [
    "#Random Forest splitting the data\n",
    "\n",
    "def split_vals(a,n): return a[:n].copy(), a[n:].copy()\n",
    "\n",
    "n_valid = contador_test\n",
    "n_trn = len(df)-n_valid\n",
    "raw_train, raw_valid = split_vals(df, n_trn)\n",
    "X_train, X_valid = split_vals(X_pca, n_trn)\n",
    "#X_train, X_valid = split_vals(X, n_trn)\n",
    "y_train, y_valid = split_vals(y, n_trn)\n",
    "\n",
    "X_train.shape, X_valid.shape"
   ]
  },
  {
   "cell_type": "code",
   "execution_count": 44,
   "metadata": {},
   "outputs": [],
   "source": [
    "#Montar Random Forest"
   ]
  },
  {
   "cell_type": "code",
   "execution_count": 206,
   "metadata": {},
   "outputs": [
    {
     "data": {
      "text/plain": [
       "RandomForestClassifier(bootstrap=True, class_weight=None, criterion='gini',\n",
       "                       max_depth=None, max_features=8, max_leaf_nodes=None,\n",
       "                       min_impurity_decrease=0.0, min_impurity_split=None,\n",
       "                       min_samples_leaf=2, min_samples_split=2,\n",
       "                       min_weight_fraction_leaf=0.0, n_estimators=5, n_jobs=-1,\n",
       "                       oob_score=False, random_state=None, verbose=0,\n",
       "                       warm_start=False)"
      ]
     },
     "execution_count": 206,
     "metadata": {},
     "output_type": "execute_result"
    }
   ],
   "source": [
    "m = RandomForestClassifier(n_estimators=5, min_samples_leaf=2, max_features=8, n_jobs=-1)  #builds the model with number of trees, min number of samples per leaf and maximum number of features taken into account\n",
    "m.fit(X_train, y_train) #trains the RF with our data\n"
   ]
  },
  {
   "cell_type": "code",
   "execution_count": 207,
   "metadata": {
    "scrolled": true
   },
   "outputs": [
    {
     "name": "stdout",
     "output_type": "stream",
     "text": [
      "0.9602272727272727 0.5419847328244275\n"
     ]
    }
   ],
   "source": [
    "trainscore = m.score(X_train, y_train)\n",
    "predscore = m.score(X_valid, y_valid)\n",
    "print(trainscore,predscore) #-> prints the accuracy of the model in training and testing\n"
   ]
  },
  {
   "cell_type": "code",
   "execution_count": 195,
   "metadata": {},
   "outputs": [
    {
     "data": {
      "text/plain": [
       "array([[42, 22],\n",
       "       [34, 33]])"
      ]
     },
     "execution_count": 195,
     "metadata": {},
     "output_type": "execute_result"
    }
   ],
   "source": [
    "#pd.crosstab(y_valid, m.predict(X_valid)) #-> confusion matrix to see how often it is right (indicates visually how often the prediction and actual value coincide)\n",
    "\n",
    "confusion_matrix(y_valid, m.predict(X_valid))\n"
   ]
  }
 ],
 "metadata": {
  "kernelspec": {
   "display_name": "Python 3",
   "language": "python",
   "name": "python3"
  },
  "language_info": {
   "codemirror_mode": {
    "name": "ipython",
    "version": 3
   },
   "file_extension": ".py",
   "mimetype": "text/x-python",
   "name": "python",
   "nbconvert_exporter": "python",
   "pygments_lexer": "ipython3",
   "version": "3.6.9"
  }
 },
 "nbformat": 4,
 "nbformat_minor": 2
}
