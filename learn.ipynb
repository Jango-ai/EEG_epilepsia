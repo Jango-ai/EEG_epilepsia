{
 "cells": [
  {
   "cell_type": "code",
   "execution_count": null,
   "metadata": {},
   "outputs": [],
   "source": [
    "#iniciar imports \n",
    "#libreria para leer los ficheros\n",
    "import pyedflib\n",
    "#nuestras amigas numpy, si queremos usar panda pos habra que añadirlas\n",
    "import numpy as np\n",
    "#para tratar ficheros\n",
    "import os\n",
    "\n",
    "# no tengo ganas de comerme la cabeza asi que  cuando veais algo como \"repr(XXX)\" es que las XXX son un tipo de dato inadecuado\n",
    "# normalmente entero o float, donde necesito una cadena, asi que la convierto al vuelo.\n",
    "# python es un rato patata a veces si en el cuaderno os sale \n",
    "# read -1, less than XXXXXXX requested!!!\n",
    "# añadir al codigo \n",
    "#                 f.close\n",
    "#                 f = pyedflib.EdfReader(file_name)\n",
    "# para que recargue el fichero\n",
    "\n",
    "# ejemplo de iniciar lectura de un fichero yo tengo un fichero test.edf pero vale para cualquier edf que tengais\n",
    "# tambien teneis la opcion de que os cree un edf aleatorio con:\n",
    "# fpyedflib.data.test_generator()\n",
    "file_name = \"test.edf\"\n",
    "f = pyedflib.EdfReader(file_name)"
   ]
  },
  {
   "cell_type": "code",
   "execution_count": null,
   "metadata": {},
   "outputs": [],
   "source": [
    "#ver cuantas señales tiene un fichero y sus etiquetas\n",
    "n = f.signals_in_file\n",
    "signal_labels = f.getSignalLabels()\n",
    "print (\"signals_in_file \"+ repr(n))\n",
    "for label in signal_labels:\n",
    "    print(label)"
   ]
  },
  {
   "cell_type": "code",
   "execution_count": null,
   "metadata": {},
   "outputs": [],
   "source": [
    "#si  queremos ver todas en vez de ir canal a canal tenemos:\n",
    "print(f.getSignalLabels())"
   ]
  },
  {
   "cell_type": "code",
   "execution_count": null,
   "metadata": {},
   "outputs": [],
   "source": [
    "#datos del fichero\n",
    "print (\"datos resumidos del fichero\")\n",
    "print (f.file_info())\n",
    "print (\"datos completos del fichero\")\n",
    "print (f.file_info_long())\n"
   ]
  },
  {
   "cell_type": "code",
   "execution_count": null,
   "metadata": {},
   "outputs": [],
   "source": [
    "#datos de la cabecera\n",
    "print (f.getHeader())\n",
    "#tambien podeis cogerlos de uno en uno por su nombre\n",
    "print (\"admincode:\"+f.getAdmincode())\n",
    "print (\"fecha nacimiento: \"+f.getBirthdate())\n",
    "print (\"duracion de la muestra \"+repr(f.getFileDuration()))\n",
    "print (\"equipamiento:\"  +f.getEquipment())\n",
    "print (\"sexo :\" +f.getGender())\n",
    "print(\"adicional: \"+f.getPatientAdditional())\n",
    "print (\"codigo paciente: \"+(f.getPatientCode()))\n",
    "print (\"paciente: \"+f.getPatientName())\n",
    "#los demas gets os los imaginais"
   ]
  },
  {
   "cell_type": "code",
   "execution_count": null,
   "metadata": {},
   "outputs": [],
   "source": [
    "#vemos los canales que tenemos y de paso su maximo y su minimo para saber luego como normalizarlos\n",
    "contador=0\n",
    "for label in signal_labels:\n",
    "    print(repr(contador)+\": CANAL \"+label+\"\\tPrefiltro\\t\"+f.getPrefilter(contador) +\"\\tfrecuencia muestreo \"+repr(f.getSampleFrequency(contador)))\n",
    "    print (\"\\tDATOS DIGITALES\")\n",
    "    print (\"\\t\\tMaximo \" + repr(f.getDigitalMaximum(contador))+ \n",
    "          \"\\t\\tMinimo \"+ repr(f.getDigitalMinimum(contador)))\n",
    "    print (\"\\tDIMENSION FISICA: \"+f.getPhysicalDimension(contador))\n",
    "    print (\"\\t\\tMaximo \"+repr(f.getPhysicalMaximum(contador))+\n",
    "           \"\\t\\tMinimo\"+repr(f.getPhysicalMinimum(contador)))\n",
    "    contador+=1\n",
    "print (f.getRecordingAdditional())\n",
    "print (\"frecuencia de muestreo \"+repr(f.getSampleFrequencies()))"
   ]
  },
  {
   "cell_type": "code",
   "execution_count": null,
   "metadata": {},
   "outputs": [],
   "source": [
    "#los datos se pueden recuperar con una instruccion solo\n",
    "contador=0\n",
    "for label in signal_labels:\n",
    "    print(f.getSignalHeader(contador))\n",
    "    contador+=1\n"
   ]
  },
  {
   "cell_type": "code",
   "execution_count": null,
   "metadata": {},
   "outputs": [],
   "source": [
    "#otra forma de mostrar todo sin especificar canal\n",
    "print(f.getSignalHeaders())"
   ]
  },
  {
   "cell_type": "code",
   "execution_count": null,
   "metadata": {},
   "outputs": [],
   "source": [
    "#para leer la señal es readSignal(canalquequeremosleer,punto inicial, punto final)\n",
    "\n",
    "print(f.readSignal(0,0,20))"
   ]
  },
  {
   "cell_type": "code",
   "execution_count": null,
   "metadata": {},
   "outputs": [],
   "source": [
    "#for i in np.arange(n):\n",
    "#    sigbufs[i, :] = f.readSignal(i)\n",
    "#no hay que olvidar cerrar que luego python es un crack y aunque cierres esto python puede seguir manteniendo abierto los ficheros\n",
    "f.close()\n",
    "#si quereis mas info https://buildmedia.readthedocs.org/media/pdf/pyedflib/latest/pyedflib.pdf"
   ]
  }
 ],
 "metadata": {
  "kernelspec": {
   "display_name": "Python 3",
   "language": "python",
   "name": "python3"
  },
  "language_info": {
   "codemirror_mode": {
    "name": "ipython",
    "version": 3
   },
   "file_extension": ".py",
   "mimetype": "text/x-python",
   "name": "python",
   "nbconvert_exporter": "python",
   "pygments_lexer": "ipython3",
   "version": "3.6.9"
  }
 },
 "nbformat": 4,
 "nbformat_minor": 4
}
